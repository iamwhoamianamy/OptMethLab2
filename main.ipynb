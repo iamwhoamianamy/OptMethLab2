{
 "metadata": {
  "language_info": {
   "codemirror_mode": {
    "name": "ipython",
    "version": 3
   },
   "file_extension": ".py",
   "mimetype": "text/x-python",
   "name": "python",
   "nbconvert_exporter": "python",
   "pygments_lexer": "ipython3",
   "version": "3.8.3-final"
  },
  "orig_nbformat": 2,
  "kernelspec": {
   "name": "python3",
   "display_name": "Python 3.8.3 64-bit (conda)",
   "metadata": {
    "interpreter": {
     "hash": "b3ba2566441a7c06988d0923437866b63cedc61552a5af99d1f4fb67d367b25f"
    }
   }
  }
 },
 "nbformat": 4,
 "nbformat_minor": 2,
 "cells": [
  {
   "cell_type": "code",
   "execution_count": 1,
   "metadata": {},
   "outputs": [],
   "source": [
    "from golden_ratio import calc_min"
   ]
  },
  {
   "cell_type": "code",
   "execution_count": 10,
   "metadata": {},
   "outputs": [
    {
     "output_type": "stream",
     "name": "stdout",
     "text": [
      "1.9999999999999576        69\n"
     ]
    }
   ],
   "source": [
    "def f0(x):\n",
    "    return (x - 2)**2\n",
    "\n",
    "x, n = calc_min(-2, 20, 10e-14, f0)\n",
    "\n",
    "print(x, n)"
   ]
  },
  {
   "cell_type": "code",
   "execution_count": null,
   "metadata": {},
   "outputs": [],
   "source": [
    "def f1(x):\n",
    "    return 100 * (x[1] - x[0])**2 + (1 - x[0])**2\n",
    "\n",
    "def f2(x):\n",
    "    return 100 * (x[1] - x[0]**2)**2 + (1 - x[0])**2\n",
    "\n",
    "def f3(x):\n",
    "    A1 = 1\n",
    "    A2 = 3\n",
    "    a1 = 2\n",
    "    a2 = 1\n",
    "    b1 = 3\n",
    "    b2 = 1\n",
    "    c1 = 2\n",
    "    c2 = 1\n",
    "    d1 = 3\n",
    "    d2 = 2\n",
    "\n",
    "    brack_1 = ((x[0] - a1) / b1)**2\n",
    "    brack_2 = ((x[1] - c1) / d1)**2\n",
    "\n",
    "    brack_3 = ((x[0] - a2) / b2)**2\n",
    "    brack_2 = ((x[1] - c2) / d2)**2\n",
    "\n",
    "    half_1 = A1 / (1 + brack_1 + brack_2)\n",
    "    half_2 = A2 / (1 + brack_3 + brack_4)\n",
    "\n",
    "    return half_1 + half_2"
   ]
  }
 ]
}